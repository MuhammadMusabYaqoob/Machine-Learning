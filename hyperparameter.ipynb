{
 "cells": [
  {
   "cell_type": "markdown",
   "metadata": {},
   "source": [
    "# Hyperparameter Tuning\n",
    "Hyperparameter is the process of finding the best combination of parameters for a model.\n",
    "\n",
    "#### Types:\n",
    "1. `Grid Search`: Searches through all possible combinations of hyperparameters.\n",
    "2. `Random Search`: Samples random combinations of hyperparameters.\n",
    "3. `Bayesian Optimization`: Model the objective function and search for the best hyperparameters.\n",
    "4. `Gradiant-based Optimization`: Uses gradient descent to find the best hyperparameters.\n",
    "\n",
    "\n",
    "### Cross Validation\n",
    "Cross validation is a statistical technique used in machine learning and data analysis to evaluate how well a model is able to generalize to new data.\n",
    "\n",
    "so, GridSearchCV will check the all combinations of hyperparameters and choose the best one."
   ]
  },
  {
   "cell_type": "code",
   "execution_count": 12,
   "metadata": {},
   "outputs": [],
   "source": [
    "from sklearn.ensemble import RandomForestClassifier\n",
    "from sklearn.model_selection import train_test_split, GridSearchCV, RandomizedSearchCV\n",
    "from sklearn.metrics import accuracy_score, confusion_matrix"
   ]
  },
  {
   "cell_type": "code",
   "execution_count": 13,
   "metadata": {},
   "outputs": [],
   "source": [
    "# load iris dataset form sklearn\n",
    "from sklearn.datasets import load_iris\n",
    "iris = load_iris()\n",
    "X = iris.data\n",
    "y = iris.target"
   ]
  },
  {
   "cell_type": "markdown",
   "metadata": {},
   "source": [
    "#### GridSearchCV"
   ]
  },
  {
   "cell_type": "code",
   "execution_count": null,
   "metadata": {},
   "outputs": [
    {
     "name": "stdout",
     "output_type": "stream",
     "text": [
      "Fitting 5 folds for each of 168 candidates, totalling 840 fits\n",
      "Best hyperparameters: {'bootstrap': True, 'criterion': 'gini', 'max_depth': 4, 'n_estimators': 400}\n",
      "CPU times: total: 2.7 s\n",
      "Wall time: 2min 42s\n"
     ]
    }
   ],
   "source": [
    "%%time\n",
    "# define model\n",
    "model = RandomForestClassifier()\n",
    "\n",
    "# create the RandomForestClassifier parameters\n",
    "parameters = {\n",
    "    # total 6\n",
    "    'n_estimators': [50, 100, 200, 300, 400, 500], # number of trees\n",
    "    # total 7\n",
    "    'max_depth': [4, 5, 6, 7, 8, 9, 10], # maximum depth of the tree\n",
    "    # total 2\n",
    "    'criterion': ['gini', 'entropy'], # splitting criterion\n",
    "    # total 2\n",
    "    'bootstrap': [True, False], # whether to use bootstrap sampling\n",
    "}\n",
    "# 6 * 7 * 2 * 2 = 168 so total checks will 168\n",
    "\n",
    "# set up the grid search\n",
    "grid = GridSearchCV(\n",
    "    estimator=model, # our model\n",
    "    param_grid=parameters, # parameters we want to check\n",
    "    cv=5, # cross-validation splits\n",
    "    scoring='accuracy', # scoring metric\n",
    "    verbose=1,\n",
    "    n_jobs=-1\n",
    "    )\n",
    "\n",
    "# fit the model\n",
    "grid.fit(X, y)\n",
    "\n",
    "# print the best hyperparameters\n",
    "print('Best hyperparameters:', grid.best_params_)"
   ]
  },
  {
   "cell_type": "code",
   "execution_count": null,
   "metadata": {},
   "outputs": [
    {
     "name": "stdout",
     "output_type": "stream",
     "text": [
      "Fitting 5 folds for each of 42 candidates, totalling 210 fits\n",
      "Best hyperparameters: {'max_depth': 4, 'n_estimators': 100}\n",
      "CPU times: total: 453 ms\n",
      "Wall time: 48.4 s\n"
     ]
    }
   ],
   "source": [
    "%%time\n",
    "# define model\n",
    "model = RandomForestClassifier()\n",
    "\n",
    "# create the RandomForestClassifier parameters\n",
    "parameters = {\n",
    "    # total 6\n",
    "    'n_estimators': [50, 100, 200, 300, 400, 500], # number of trees\n",
    "    # total 7\n",
    "    'max_depth': [4, 5, 6, 7, 8, 9, 10], # maximum depth of the tree\n",
    "}\n",
    "# 6 * 7 = 42 so total checks will 52\n",
    "\n",
    "# set up the grid search\n",
    "grid = GridSearchCV(\n",
    "    estimator=model, # our model\n",
    "    param_grid=parameters, # parameters we want to check\n",
    "    cv=5, # cross-validation splits\n",
    "    scoring='accuracy', # scoring metric\n",
    "    verbose=1,\n",
    "    n_jobs=-1\n",
    "    )\n",
    "\n",
    "# fit the model\n",
    "grid.fit(X, y)\n",
    "\n",
    "# print the best hyperparameters\n",
    "print('Best hyperparameters:', grid.best_params_)"
   ]
  },
  {
   "cell_type": "markdown",
   "metadata": {},
   "source": [
    "#### RandomSearchCV"
   ]
  },
  {
   "cell_type": "code",
   "execution_count": null,
   "metadata": {},
   "outputs": [
    {
     "name": "stdout",
     "output_type": "stream",
     "text": [
      "Fitting 5 folds for each of 20 candidates, totalling 100 fits\n",
      "Best hyperparameters: {'n_estimators': 100, 'max_depth': 6, 'criterion': 'entropy', 'bootstrap': True}\n",
      "CPU times: total: 422 ms\n",
      "Wall time: 13.7 s\n"
     ]
    }
   ],
   "source": [
    "%%time\n",
    "# define model\n",
    "model = RandomForestClassifier()\n",
    "\n",
    "# # create the RandomForestClassifier parameters\n",
    "parameters = {\n",
    "    'n_estimators': [50, 100, 200, 300, 400, 500], # number of trees\n",
    "    'max_depth': [4, 5, 6, 7, 8, 9, 10], # maximum depth of the tree\n",
    "    'criterion': ['gini', 'entropy'], # splitting criterion\n",
    "    'bootstrap': [True, False], # whether to use bootstrap sampling\n",
    "}\n",
    "\n",
    "# set up the grid search\n",
    "grid = RandomizedSearchCV(\n",
    "    estimator=model, # our model\n",
    "    param_distributions=parameters, # parameters grid we want to check\n",
    "    cv=5, # cross-validation splits\n",
    "    scoring='accuracy', # scoring metric\n",
    "    verbose=1,\n",
    "    n_jobs=-1,\n",
    "    n_iter=20, # number of iterations\n",
    "    )\n",
    "\n",
    "# fit the model\n",
    "grid.fit(X, y)\n",
    "\n",
    "# print the best hyperparameters\n",
    "print('Best hyperparameters:', grid.best_params_)"
   ]
  }
 ],
 "metadata": {
  "kernelspec": {
   "display_name": "Python 3",
   "language": "python",
   "name": "python3"
  },
  "language_info": {
   "codemirror_mode": {
    "name": "ipython",
    "version": 3
   },
   "file_extension": ".py",
   "mimetype": "text/x-python",
   "name": "python",
   "nbconvert_exporter": "python",
   "pygments_lexer": "ipython3",
   "version": "3.11.5"
  }
 },
 "nbformat": 4,
 "nbformat_minor": 2
}
